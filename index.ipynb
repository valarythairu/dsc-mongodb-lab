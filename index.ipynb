{
 "cells": [
  {
   "attachments": {},
   "cell_type": "markdown",
   "metadata": {},
   "source": [
    "# MongoDB - Lab\n",
    "\n",
    "## Introduction\n",
    "\n",
    "In this lesson, we'll get some hands-on experience with MongoDB!\n",
    "\n",
    "## Objectives\n",
    "You will be able to: \n",
    "\n",
    "- Create a MongoDB database   \n",
    "- Insert data into a MongoDB database   \n",
    "- Read data from a MongoDB database   \n",
    "- Update data in a MongoDB database   \n",
    "\n",
    "## Getting Started\n",
    "\n",
    "To begin this lab, make sure that you start up the mongoDB server in your terminal first!  \n",
    "**You must do this lab locally on your computer.**\n",
    "\n",
    "\n",
    "## Connecting to the MongoDB Database\n",
    "\n",
    "In the cell below, import the appropriate library and connect to the mongoDB server. Create a new database called `'lab_db'`."
   ]
  },
  {
   "cell_type": "code",
   "execution_count": 2,
   "metadata": {},
   "outputs": [
    {
     "ename": "ModuleNotFoundError",
     "evalue": "No module named 'pymongo'",
     "output_type": "error",
     "traceback": [
      "\u001b[1;31m---------------------------------------------------------------------------\u001b[0m",
      "\u001b[1;31mModuleNotFoundError\u001b[0m                       Traceback (most recent call last)",
      "Cell \u001b[1;32mIn[2], line 1\u001b[0m\n\u001b[1;32m----> 1\u001b[0m \u001b[38;5;28;01mimport\u001b[39;00m \u001b[38;5;21;01mpymongo\u001b[39;00m\n\u001b[0;32m      2\u001b[0m \u001b[38;5;66;03m#myclient = pymongo.MongoClient(\"mongodb://127.0.0.1:27017\")\u001b[39;00m\n\u001b[0;32m      3\u001b[0m \u001b[38;5;66;03m#mydb = myclient['lab_db']\u001b[39;00m\n",
      "\u001b[1;31mModuleNotFoundError\u001b[0m: No module named 'pymongo'"
     ]
    }
   ],
   "source": [
    "#import pymongo\n",
    "#myclient = pymongo.MongoClient(\"mongodb://127.0.0.1:27017\")\n",
    "#mydb = myclient['lab_db']"
   ]
  },
  {
   "cell_type": "code",
   "execution_count": 1,
   "metadata": {},
   "outputs": [
    {
     "name": "stdout",
     "output_type": "stream",
     "text": [
      "Requirement already satisfied: pymongo in c:\\users\\hp\\anaconda3\\envs\\learn-env\\lib\\site-packages (4.3.3)Note: you may need to restart the kernel to use updated packages.\n",
      "\n",
      "Requirement already satisfied: dnspython<3.0.0,>=1.16.0 in c:\\users\\hp\\anaconda3\\envs\\learn-env\\lib\\site-packages (from pymongo) (2.3.0)\n"
     ]
    }
   ],
   "source": [
    "pip install pymongo"
   ]
  },
  {
   "cell_type": "code",
   "execution_count": 2,
   "metadata": {},
   "outputs": [],
   "source": [
    "import pymongo"
   ]
  },
  {
   "cell_type": "code",
   "execution_count": 3,
   "metadata": {},
   "outputs": [],
   "source": [
    "myclient = pymongo.MongoClient(\"mongodb://127.0.0.1:27017\")\n",
    "mydb = myclient['lab_db']"
   ]
  },
  {
   "attachments": {},
   "cell_type": "markdown",
   "metadata": {},
   "source": [
    "## Creating a Collection\n",
    "\n",
    "Now, create a collection called `'lab_collection'` inside `'lab_db'`."
   ]
  },
  {
   "cell_type": "code",
   "execution_count": 4,
   "metadata": {},
   "outputs": [],
   "source": [
    "mycollection = mydb['lab_collection']"
   ]
  },
  {
   "attachments": {},
   "cell_type": "markdown",
   "metadata": {},
   "source": [
    "## Adding Some Data\n",
    "\n",
    "Now, we're going to add some example records into our database. In the cells below, create dictionary representations of the following customer records:\n",
    "\n",
    "\n",
    "|     Name     |            Email           |  Mailing_Address  | Balance |                         Notes                         |\n",
    "|:------------:|:--------------------------:|:-----------------:|:-------:|:-----------------------------------------------------:|\n",
    "|  John Smith  |    j.smith@thesmiths.com   | 123 mulberry lane |   0.0   |    Called technical support, issue not yet resolved   |\n",
    "|  Jane Smith  |  jane_smith@thesmiths.com  |         Null          |  25.00  |                   Null                                    |\n",
    "|  Adam Enbar  | adam@theflatironschool.com |    11 Broadway    |  14.99  |           Set up on recurring billing cycle           |\n",
    "| Avi Flombaum |  avi@theflatironschool.com |    11 Broadway    |   0.0   |                   Null                                    |\n",
    "|   Steven S.  |     steven.s@gmail.net     |         Null          |  -20.23 | Refunded for overpayment due to price match guarantee |\n",
    "\n",
    "\n",
    "Your first challenge is to take all of the data in the table above and create the corresponding documents and add then to our mongo database. Note that fields that contain 'Null' should not be included in the document (recall that since mongo is schema-less, each document can be different). \n",
    "\n",
    "Create the documents from the table listed above, and then use `insert_many()` to insert them into the collection."
   ]
  },
  {
   "cell_type": "code",
   "execution_count": 5,
   "metadata": {},
   "outputs": [],
   "source": [
    "customer_1 = {'name':'John Smith', 'Email':'j.smith@thesmiths.com', 'Mailing_Address':'123 mulberry lane', 'Notes':'Called technical support, issues not yet resolved'}\n",
    "customer_2 = {'name':'Jane Smith', 'Email':'jane_smith@thesmiths.com','Mailing_Address':'Null','Notes':'Null'}\n",
    "customer_3 = {'name':'Adam Enbar','Email':'adam@theflatironschool.com', 'Mailing_Address':'11 Broadway','Balance':'14.99','Notes':'Set up on recurring billing cycle'}\n",
    "customer_4 = {'name':'Avi Flombaum','Email':'avi@theflatironschool.com','Mailing_Address':'11 Broadway','Balance':'0.0','Notes':'Null'}\n",
    "customer_5 = {'name':'Steven S.', 'Email':'steven.s@gmail.net','Mailing_Address':'Null','Balance':'-20.23','Notes':'Refunded for overpayment due to price match guarantee'}\n",
    "\n",
    "all_records = [customer_1,customer_2,customer_3,customer_4,customer_5]\n",
    "\n",
    "insertion_results = mycollection.insert_many(all_records)"
   ]
  },
  {
   "attachments": {},
   "cell_type": "markdown",
   "metadata": {},
   "source": [
    "Now, access the appropriate attribute from the results object returned from the insertion to see the unique IDs for each record inserted, so that we can confirm each were inserted correctly. "
   ]
  },
  {
   "cell_type": "code",
   "execution_count": 6,
   "metadata": {},
   "outputs": [
    {
     "data": {
      "text/plain": [
       "[ObjectId('6469efa248d2277bf7cdd506'),\n",
       " ObjectId('6469efa248d2277bf7cdd507'),\n",
       " ObjectId('6469efa248d2277bf7cdd508'),\n",
       " ObjectId('6469efa248d2277bf7cdd509'),\n",
       " ObjectId('6469efa248d2277bf7cdd50a')]"
      ]
     },
     "execution_count": 6,
     "metadata": {},
     "output_type": "execute_result"
    }
   ],
   "source": [
    "insertion_results.inserted_ids"
   ]
  },
  {
   "attachments": {},
   "cell_type": "markdown",
   "metadata": {},
   "source": [
    "## Querying and Filtering\n",
    "\n",
    "In the cell below, return the name and email address for every customer record. Then, print every item from the query to show that it worked correctly. "
   ]
  },
  {
   "cell_type": "code",
   "execution_count": 7,
   "metadata": {},
   "outputs": [
    {
     "name": "stdout",
     "output_type": "stream",
     "text": [
      "{'_id': ObjectId('646822a0211b23cabf50df50'), 'name': 'John Smith', 'Email': 'j.smith@thesmiths.com'}\n",
      "{'_id': ObjectId('646822a0211b23cabf50df51'), 'name': 'Jane Smith', 'Email': 'jane_smith@thesmiths.com'}\n",
      "{'_id': ObjectId('646822a0211b23cabf50df52'), 'name': 'Adam Enbar', 'Email': 'adam@theflatironschool.com'}\n",
      "{'_id': ObjectId('646822a0211b23cabf50df53'), 'name': 'Avi Flombaum', 'Email': 'avi@theflatironschool.com'}\n",
      "{'_id': ObjectId('646822a0211b23cabf50df54'), 'name': 'Steven S.', 'Email': 'steven.s@gmail.net'}\n",
      "{'_id': ObjectId('6469efa248d2277bf7cdd506'), 'name': 'John Smith', 'Email': 'j.smith@thesmiths.com'}\n",
      "{'_id': ObjectId('6469efa248d2277bf7cdd507'), 'name': 'Jane Smith', 'Email': 'jane_smith@thesmiths.com'}\n",
      "{'_id': ObjectId('6469efa248d2277bf7cdd508'), 'name': 'Adam Enbar', 'Email': 'adam@theflatironschool.com'}\n",
      "{'_id': ObjectId('6469efa248d2277bf7cdd509'), 'name': 'Avi Flombaum', 'Email': 'avi@theflatironschool.com'}\n",
      "{'_id': ObjectId('6469efa248d2277bf7cdd50a'), 'name': 'Steven S.', 'Email': 'steven.s@gmail.net'}\n"
     ]
    }
   ],
   "source": [
    "query_1 =  mycollection.find({}, {'name': 1, 'Email': 1})\n",
    "for x in query_1:\n",
    "    print(x)"
   ]
  },
  {
   "attachments": {},
   "cell_type": "markdown",
   "metadata": {},
   "source": [
    "Great! Now, let's write a query that gets an individual record based on a stored key-value pair a document contains. \n",
    "\n",
    "In the cell below, write a query to get the record for `'John Smith'` by using his name. Then, print the results of the query to demonstrate that it worked correctly.  "
   ]
  },
  {
   "cell_type": "code",
   "execution_count": 8,
   "metadata": {},
   "outputs": [
    {
     "name": "stdout",
     "output_type": "stream",
     "text": [
      "{'_id': ObjectId('646822a0211b23cabf50df50'), 'name': 'John Smith'}\n",
      "{'_id': ObjectId('646822a0211b23cabf50df51'), 'name': 'Jane Smith'}\n",
      "{'_id': ObjectId('646822a0211b23cabf50df52'), 'name': 'Adam Enbar'}\n",
      "{'_id': ObjectId('646822a0211b23cabf50df53'), 'name': 'Avi Flombaum'}\n",
      "{'_id': ObjectId('646822a0211b23cabf50df54'), 'name': 'Steven S.'}\n",
      "{'_id': ObjectId('6469efa248d2277bf7cdd506'), 'name': 'John Smith'}\n",
      "{'_id': ObjectId('6469efa248d2277bf7cdd507'), 'name': 'Jane Smith'}\n",
      "{'_id': ObjectId('6469efa248d2277bf7cdd508'), 'name': 'Adam Enbar'}\n",
      "{'_id': ObjectId('6469efa248d2277bf7cdd509'), 'name': 'Avi Flombaum'}\n",
      "{'_id': ObjectId('6469efa248d2277bf7cdd50a'), 'name': 'Steven S.'}\n"
     ]
    }
   ],
   "source": [
    "query_2 = mycollection.find({},{'name':'John Smith'})\n",
    "for x in query_2:\n",
    "    print(x)\n"
   ]
  },
  {
   "attachments": {},
   "cell_type": "markdown",
   "metadata": {},
   "source": [
    "Great! Now, write a query to get the names, email addresses, and balances for customers that have a balance greater than 0. Use a modifier to do this. \n",
    "\n",
    "**_HINT_**: In the query below, you'll be passing in two separate dictionaries. The first one defines the logic of the query, while the second tells which fields we want returned. "
   ]
  },
  {
   "cell_type": "code",
   "execution_count": 9,
   "metadata": {},
   "outputs": [],
   "source": [
    "query_3 = mycollection.find({\"Balance\": {\"$gt\": 0}})\n"
   ]
  },
  {
   "cell_type": "code",
   "execution_count": 10,
   "metadata": {},
   "outputs": [],
   "source": [
    "for x in query_3:\n",
    "    print(x)"
   ]
  },
  {
   "attachments": {},
   "cell_type": "markdown",
   "metadata": {},
   "source": [
    "## Updating a Record\n",
    "\n",
    "Now, let's update some records. In the cell below. set the mailing address for `'John Smith'` to `'367 55th St., apt 2A'`."
   ]
  },
  {
   "cell_type": "code",
   "execution_count": null,
   "metadata": {},
   "outputs": [],
   "source": []
  },
  {
   "cell_type": "code",
   "execution_count": 11,
   "metadata": {},
   "outputs": [
    {
     "data": {
      "text/plain": [
       "<pymongo.results.UpdateResult at 0x2005191afb0>"
      ]
     },
     "execution_count": 11,
     "metadata": {},
     "output_type": "execute_result"
    }
   ],
   "source": [
    "\n",
    "record_to_update_1 = {'name':'John Smith'}\n",
    "update_1 = {'$set':{'Mailing_Address':'367 55th St., apt 2A'}}\n",
    "mycollection.update_one(record_to_update_1, update_1)\n",
    "\n"
   ]
  },
  {
   "attachments": {},
   "cell_type": "markdown",
   "metadata": {},
   "source": [
    "Now, write a query to check that the update worked for this document in the cell below:  "
   ]
  },
  {
   "cell_type": "code",
   "execution_count": 12,
   "metadata": {},
   "outputs": [
    {
     "name": "stdout",
     "output_type": "stream",
     "text": [
      "{'_id': ObjectId('646822a0211b23cabf50df50'), 'name': 'John Smith', 'Email': 'j.smith@thesmiths.com', 'Mailing_Address': '367 55th St., apt 2A', 'Notes': 'Called technical support, issues not yet resolved'}\n",
      "{'_id': ObjectId('6469efa248d2277bf7cdd506'), 'name': 'John Smith', 'Email': 'j.smith@thesmiths.com', 'Mailing_Address': '123 mulberry lane', 'Notes': 'Called technical support, issues not yet resolved'}\n"
     ]
    }
   ],
   "source": [
    "query_4 = mycollection.find({'name': 'John Smith'})\n",
    "for item in query_4:\n",
    "    print(item)"
   ]
  },
  {
   "attachments": {},
   "cell_type": "markdown",
   "metadata": {},
   "source": [
    "Now, let's assume that we want to add birthdays for each customer record. Consider the following table:\n",
    "\n",
    "|     Name     |  Birthday  |\n",
    "|:------------:|:----------:|\n",
    "|  John Smith  | 02/20/1986 |\n",
    "|  Jane Smith  | 07/07/1983 |\n",
    "|  Adam Enbar  | 12/02/1982 |\n",
    "| Avi Flombaum | 04/17/1983 |\n",
    "|   Steven S.  | 08/30/1991 |\n",
    "\n",
    "We want to add birthdays for each person, but we want to do so in a way where we don't have to do the same repetitive task over and over again. This seems like a good opportunity to write a function to handle some of the logic for us!\n",
    "\n",
    "In the cell below:\n",
    "\n",
    "* Store the names in the `names_list` variable as a list.\n",
    "* Store the birthdays in the `birthdays_list` variable as a list.\n",
    "* Write a function that takes in the two different lists, and updates each record by adding in the appropriate key-value pair containing that user's birthday.\n",
    "\n",
    "**_Hint:_** There are several ways that you could write this, depending on whether you want to use the `update_one()` method or the `update_many()` method. See if you can figure out both approaches!"
   ]
  },
  {
   "cell_type": "code",
   "execution_count": 27,
   "metadata": {},
   "outputs": [],
   "source": [
    "names_list = ['John Smith','Jane Smith','Adam Enbar','Avi Flombaum','Steven S.']\n",
    "birthdays_list = ['02/20/1986','07/07/1983','12/02/1982','04/17/1983','08/30/1991']\n",
    "\n",
    "def update_birthdays(names, birthdays):\n",
    "       for ind, name in enumerate(names):\n",
    "            birthday = birthdays_list[ind]\n",
    "            query = {'Name': name}\n",
    "            update = {'$set': {'Birthday': birthdays_list}}\n",
    "            mycollection.update_one(query, update)\n",
    "        # Alternative method is to create a dictionary for each person, store them all in a list, and then pass that \n",
    "        # list to update_many() at the end of the function. \n",
    "        \n",
    "update_birthdays(names_list, birthdays_list)"
   ]
  },
  {
   "attachments": {},
   "cell_type": "markdown",
   "metadata": {},
   "source": [
    "Now, write a query to check your work and see that the birthdays were added correctly."
   ]
  },
  {
   "cell_type": "code",
   "execution_count": 28,
   "metadata": {},
   "outputs": [
    {
     "data": {
      "text/plain": [
       "[{'_id': ObjectId('646822a0211b23cabf50df50'),\n",
       "  'name': 'John Smith',\n",
       "  'Email': 'j.smith@thesmiths.com',\n",
       "  'Mailing_Address': '367 55th St., apt 2A',\n",
       "  'Notes': 'Called technical support, issues not yet resolved'},\n",
       " {'_id': ObjectId('646822a0211b23cabf50df51'),\n",
       "  'name': 'Jane Smith',\n",
       "  'Email': 'jane_smith@thesmiths.com',\n",
       "  'Mailing_Address': 'Null',\n",
       "  'Notes': 'Null'},\n",
       " {'_id': ObjectId('646822a0211b23cabf50df52'),\n",
       "  'name': 'Adam Enbar',\n",
       "  'Email': 'adam@theflatironschool.com',\n",
       "  'Mailing_Address': '11 Broadway',\n",
       "  'Balance': '14.99',\n",
       "  'Notes': 'Set up on recurring billing cycle'},\n",
       " {'_id': ObjectId('646822a0211b23cabf50df53'),\n",
       "  'name': 'Avi Flombaum',\n",
       "  'Email': 'avi@theflatironschool.com',\n",
       "  'Mailing_Address': '11 Broadway',\n",
       "  'Balance': '0.0',\n",
       "  'Notes': 'Null'},\n",
       " {'_id': ObjectId('646822a0211b23cabf50df54'),\n",
       "  'name': 'Steven S.',\n",
       "  'Email': 'steven.s@gmail.net',\n",
       "  'Mailing_Address': 'Null',\n",
       "  'Balance': '-20.23',\n",
       "  'Notes': 'Refunded for overpayment due to price match guarantee'},\n",
       " {'_id': ObjectId('6469efa248d2277bf7cdd506'),\n",
       "  'name': 'John Smith',\n",
       "  'Email': 'j.smith@thesmiths.com',\n",
       "  'Mailing_Address': '123 mulberry lane',\n",
       "  'Notes': 'Called technical support, issues not yet resolved'},\n",
       " {'_id': ObjectId('6469efa248d2277bf7cdd507'),\n",
       "  'name': 'Jane Smith',\n",
       "  'Email': 'jane_smith@thesmiths.com',\n",
       "  'Mailing_Address': 'Null',\n",
       "  'Notes': 'Null'},\n",
       " {'_id': ObjectId('6469efa248d2277bf7cdd508'),\n",
       "  'name': 'Adam Enbar',\n",
       "  'Email': 'adam@theflatironschool.com',\n",
       "  'Mailing_Address': '11 Broadway',\n",
       "  'Balance': '14.99',\n",
       "  'Notes': 'Set up on recurring billing cycle'},\n",
       " {'_id': ObjectId('6469efa248d2277bf7cdd509'),\n",
       "  'name': 'Avi Flombaum',\n",
       "  'Email': 'avi@theflatironschool.com',\n",
       "  'Mailing_Address': '11 Broadway',\n",
       "  'Balance': '0.0',\n",
       "  'Notes': 'Null'},\n",
       " {'_id': ObjectId('6469efa248d2277bf7cdd50a'),\n",
       "  'name': 'Steven S.',\n",
       "  'Email': 'steven.s@gmail.net',\n",
       "  'Mailing_Address': 'Null',\n",
       "  'Balance': '-20.23',\n",
       "  'Notes': 'Refunded for overpayment due to price match guarantee'}]"
      ]
     },
     "execution_count": 28,
     "metadata": {},
     "output_type": "execute_result"
    }
   ],
   "source": [
    "[i for i in mycollection.find()]"
   ]
  },
  {
   "attachments": {},
   "cell_type": "markdown",
   "metadata": {},
   "source": [
    "Great! It looks like the birthdays have been successfully added to every record correctly!\n",
    "\n",
    "## Summary\n",
    "\n",
    "In this lesson, we got some hands-on practice working with MongoDB!"
   ]
  }
 ],
 "metadata": {
  "kernelspec": {
   "display_name": "Python 3 (ipykernel)",
   "language": "python",
   "name": "python3"
  },
  "language_info": {
   "codemirror_mode": {
    "name": "ipython",
    "version": 3
   },
   "file_extension": ".py",
   "mimetype": "text/x-python",
   "name": "python",
   "nbconvert_exporter": "python",
   "pygments_lexer": "ipython3",
   "version": "3.10.11"
  }
 },
 "nbformat": 4,
 "nbformat_minor": 2
}
